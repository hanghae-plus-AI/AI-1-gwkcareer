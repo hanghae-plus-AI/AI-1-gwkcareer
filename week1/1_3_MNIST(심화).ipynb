{
  "cells": [
    {
      "cell_type": "markdown",
      "metadata": {
        "id": "view-in-github",
        "colab_type": "text"
      },
      "source": [
        "<a href=\"https://colab.research.google.com/github/hanghae-plus-AI/AI-1-gwkcareer/blob/main/week1/1_3_MNIST(%EC%8B%AC%ED%99%94).ipynb\" target=\"_parent\"><img src=\"https://colab.research.google.com/assets/colab-badge.svg\" alt=\"Open In Colab\"/></a>"
      ]
    },
    {
      "cell_type": "markdown",
      "metadata": {
        "id": "u5ta87YKDJS1"
      },
      "source": [
        "# **MNIST 예측 모델에 deep learning techniques 적용하기**\n",
        "\n"
      ]
    },
    {
      "cell_type": "markdown",
      "metadata": {
        "id": "pr7RF3bCDlHk"
      },
      "source": [
        "# SGD와 Adam 성능 비교\n",
        "\n",
        "- Dataset을 MNIST에서 [CIFAR10](https://pytorch.org/vision/stable/generated/torchvision.datasets.CIFAR10.html)으로 변경해줍니다.\n",
        "- Activation 함수를 `nn.ReLU`에서 `nn.LeakyReLU`로 변경해줍니다.\n",
        "- 학습 인자는 `n_epochs` = 50, `batch_size` = 256로 설정합니다\n",
        "- 입력 shape은 model을 선언할 때 중요하기 때문에 MNIST 실습 자료에서 사용한 방식과 똑같이 shape을 확인 후 변경\n",
        "- 먼저 [Adam optimizer](https://pytorch.org/docs/stable/generated/torch.optim.Adam.html)을 사용하여 학습하는 코드를 구현합니다.\n",
        "- (Plot 1) SGD와 Adam을 학습시킨 후 각각의 epoch에 대한 train 정확도를 plot합니다."
      ]
    },
    {
      "cell_type": "code",
      "execution_count": null,
      "metadata": {
        "id": "6lXVfXoDtoQh"
      },
      "outputs": [],
      "source": [
        "import torch\n",
        "import torchvision\n",
        "import torchvision.transforms as transforms\n",
        "import numpy as np\n",
        "from torch import nn\n",
        "from matplotlib import pyplot as plt\n",
        "from torch.optim import SGD, Adam"
      ]
    },
    {
      "cell_type": "markdown",
      "metadata": {
        "id": "2tSLaKZmPdjx"
      },
      "source": [
        "데이터 로드"
      ]
    },
    {
      "cell_type": "code",
      "execution_count": null,
      "metadata": {
        "colab": {
          "base_uri": "https://localhost:8080/"
        },
        "id": "KAYlqPaRt6ti",
        "outputId": "43f27138-c3b2-49f9-e014-4e5e6480adec"
      },
      "outputs": [
        {
          "output_type": "stream",
          "name": "stdout",
          "text": [
            "Downloading https://www.cs.toronto.edu/~kriz/cifar-10-python.tar.gz to ./data/cifar-10-python.tar.gz\n"
          ]
        },
        {
          "output_type": "stream",
          "name": "stderr",
          "text": [
            "100%|██████████| 170498071/170498071 [00:04<00:00, 34899701.34it/s]\n"
          ]
        },
        {
          "output_type": "stream",
          "name": "stdout",
          "text": [
            "Extracting ./data/cifar-10-python.tar.gz to ./data\n",
            "Files already downloaded and verified\n"
          ]
        }
      ],
      "source": [
        "transform = transforms.ToTensor()\n",
        "\n",
        "trainset = torchvision.datasets.CIFAR10( # MNIST에서 CIFAR10으로 변경\n",
        "    root='./data',\n",
        "    train=True,\n",
        "    download=True,\n",
        "    transform=transform\n",
        ")\n",
        "testset = torchvision.datasets.CIFAR10( # MNIST에서 CIFAR10으로 변경\n",
        "    root='./data',\n",
        "    train=False,\n",
        "    download=True,\n",
        "    transform=transform\n",
        ")"
      ]
    },
    {
      "cell_type": "code",
      "execution_count": null,
      "metadata": {
        "colab": {
          "base_uri": "https://localhost:8080/",
          "height": 484
        },
        "id": "Zsp3sHmojyhT",
        "outputId": "28509cbe-497e-4d2f-a595-1540c3e37218"
      },
      "outputs": [
        {
          "output_type": "stream",
          "name": "stdout",
          "text": [
            "50000\n",
            "torch.Size([3, 32, 32]) 6\n"
          ]
        },
        {
          "output_type": "execute_result",
          "data": {
            "text/plain": [
              "<matplotlib.image.AxesImage at 0x7d6757653b50>"
            ]
          },
          "metadata": {},
          "execution_count": 3
        },
        {
          "output_type": "display_data",
          "data": {
            "text/plain": [
              "<Figure size 640x480 with 1 Axes>"
            ],
            "image/png": "[encoded data removed]"
          },
          "metadata": {}
        }
      ],
      "source": [
        "print(len(trainset))\n",
        "print(trainset[0][0].shape, trainset[0][1])\n",
        "plt.imshow(trainset[0][0][0], cmap='gray')"
      ]
    },
    {
      "cell_type": "code",
      "execution_count": null,
      "metadata": {
        "id": "UxKu3kA2i5WH"
      },
      "outputs": [],
      "source": [
        "batch_size = 256\n",
        "\n",
        "trainloader = torch.utils.data.DataLoader(\n",
        "    trainset,\n",
        "    batch_size=batch_size,\n",
        "    shuffle=True\n",
        ")\n",
        "testloader = torch.utils.data.DataLoader(\n",
        "    testset,\n",
        "    batch_size=batch_size,\n",
        "    shuffle=False\n",
        ")"
      ]
    },
    {
      "cell_type": "markdown",
      "metadata": {
        "id": "bSB6yjDTPrSV"
      },
      "source": [
        "데이터 shape 확인"
      ]
    },
    {
      "cell_type": "code",
      "execution_count": null,
      "metadata": {
        "colab": {
          "base_uri": "https://localhost:8080/"
        },
        "id": "_Hd7XxyAvVNz",
        "outputId": "84ad1289-cb90-4a38-bade-0ab55109f417"
      },
      "outputs": [
        {
          "output_type": "stream",
          "name": "stdout",
          "text": [
            "torch.Size([256, 3, 32, 32]) torch.Size([256])\n"
          ]
        }
      ],
      "source": [
        "dataiter = iter(trainloader)\n",
        "images, labels = next(dataiter)\n",
        "print(images.shape, labels.shape)"
      ]
    },
    {
      "cell_type": "code",
      "execution_count": null,
      "metadata": {
        "id": "OLOA-ZGTuVVG"
      },
      "outputs": [],
      "source": [
        "class Model(nn.Module):\n",
        "  def __init__(self, input_dim, n_dim):\n",
        "    super().__init__()\n",
        "\n",
        "    self.layer1 = nn.Linear(input_dim, n_dim)\n",
        "    self.layer2 = nn.Linear(n_dim, n_dim)\n",
        "    self.layer3 = nn.Linear(n_dim, 10)\n",
        "\n",
        "    self.act = nn.LeakyReLU() # nn.ReLU에서 nn.LeakyReLU로 변경\n",
        "\n",
        "  def forward(self, x):\n",
        "    x = torch.flatten(x, start_dim=1)\n",
        "    x = self.act(self.layer1(x))\n",
        "    x = self.act(self.layer2(x))\n",
        "    x = self.layer3(x)\n",
        "\n",
        "    return x\n",
        "\n",
        "# 모델 초기화\n",
        "model = Model(3 * 32 * 32, 1024).to('cuda')"
      ]
    },
    {
      "cell_type": "code",
      "execution_count": null,
      "metadata": {
        "id": "ypS0TcOlvBhZ"
      },
      "outputs": [],
      "source": [
        "lr = 0.001\n",
        "\n",
        "# 옵티마이저 설정\n",
        "sgd_optimizer = SGD(model.parameters(), lr=lr)\n",
        "adam_optimizer = Adam(model.parameters(), lr=lr)"
      ]
    },
    {
      "cell_type": "code",
      "execution_count": null,
      "metadata": {
        "id": "RGnOqII5uEia"
      },
      "outputs": [],
      "source": [
        "# model 정확도 측정 함수\n",
        "def accuracy(model, dataloader):\n",
        "  cnt = 0\n",
        "  acc = 0\n",
        "\n",
        "  for data in dataloader:\n",
        "    inputs, labels = data\n",
        "    inputs, labels = inputs.to('cuda'), labels.to('cuda')\n",
        "\n",
        "    preds = model(inputs)\n",
        "    preds = torch.argmax(preds, dim=-1)\n",
        "\n",
        "    cnt += labels.shape[0]\n",
        "    acc += (labels == preds).sum().item()\n",
        "\n",
        "  return acc / cnt"
      ]
    },
    {
      "cell_type": "code",
      "execution_count": null,
      "metadata": {
        "id": "TuFM778QseZ_"
      },
      "outputs": [],
      "source": [
        "# model 정확도 시각화\n",
        "def plot_acc1(train_sgd, test_sgd, train_adam, test_adam):\n",
        "  x = np.arange(len(train_sgd))\n",
        "\n",
        "  plt.plot(x, train_sgd, label='SGD train')\n",
        "  plt.plot(x, test_sgd, label='SGD test')\n",
        "  plt.plot(x, train_adam, label='Adam train')\n",
        "  plt.plot(x, test_adam, label='Adam test')\n",
        "\n",
        "  plt.legend()\n",
        "  plt.show()"
      ]
    },
    {
      "cell_type": "code",
      "execution_count": null,
      "metadata": {
        "id": "TryX1hewvNiB",
        "colab": {
          "base_uri": "https://localhost:8080/",
          "height": 1000
        },
        "outputId": "0707e562-996f-456b-a9e4-728b91491372"
      },
      "outputs": [
        {
          "output_type": "stream",
          "name": "stdout",
          "text": [
            "Epoch   0 | Loss(SGD): 450.0973665714264\n",
            "Epoch   1 | Loss(SGD): 447.98970103263855\n",
            "Epoch   2 | Loss(SGD): 446.18931889533997\n",
            "Epoch   3 | Loss(SGD): 444.4172043800354\n",
            "Epoch   4 | Loss(SGD): 442.5363473892212\n",
            "Epoch   5 | Loss(SGD): 440.52255845069885\n",
            "Epoch   6 | Loss(SGD): 438.2845633029938\n",
            "Epoch   7 | Loss(SGD): 435.89115262031555\n",
            "Epoch   8 | Loss(SGD): 433.3045587539673\n",
            "Epoch   9 | Loss(SGD): 430.52102041244507\n",
            "Epoch  10 | Loss(SGD): 427.6301350593567\n",
            "Epoch  11 | Loss(SGD): 424.6378130912781\n",
            "Epoch  12 | Loss(SGD): 421.58375692367554\n",
            "Epoch  13 | Loss(SGD): 418.5057098865509\n",
            "Epoch  14 | Loss(SGD): 415.61922955513\n",
            "Epoch  15 | Loss(SGD): 412.7708203792572\n",
            "Epoch  16 | Loss(SGD): 410.2086069583893\n",
            "Epoch  17 | Loss(SGD): 407.77210211753845\n",
            "Epoch  18 | Loss(SGD): 405.5512557029724\n",
            "Epoch  19 | Loss(SGD): 403.39711916446686\n",
            "Epoch  20 | Loss(SGD): 401.43659567832947\n",
            "Epoch  21 | Loss(SGD): 399.49147856235504\n",
            "Epoch  22 | Loss(SGD): 397.7667214870453\n",
            "Epoch  23 | Loss(SGD): 396.2276277542114\n",
            "Epoch  24 | Loss(SGD): 394.59290957450867\n",
            "Epoch  25 | Loss(SGD): 393.03203213214874\n",
            "Epoch  26 | Loss(SGD): 391.65127420425415\n",
            "Epoch  27 | Loss(SGD): 390.3022811412811\n",
            "Epoch  28 | Loss(SGD): 389.02689707279205\n",
            "Epoch  29 | Loss(SGD): 387.7142699956894\n",
            "Epoch  30 | Loss(SGD): 386.51655626296997\n",
            "Epoch  31 | Loss(SGD): 385.3778153657913\n",
            "Epoch  32 | Loss(SGD): 384.32260298728943\n",
            "Epoch  33 | Loss(SGD): 383.2480045557022\n",
            "Epoch  34 | Loss(SGD): 382.1943053007126\n",
            "Epoch  35 | Loss(SGD): 381.19165778160095\n",
            "Epoch  36 | Loss(SGD): 380.22876381874084\n",
            "Epoch  37 | Loss(SGD): 379.32007479667664\n",
            "Epoch  38 | Loss(SGD): 378.5428420305252\n",
            "Epoch  39 | Loss(SGD): 377.5123734474182\n",
            "Epoch  40 | Loss(SGD): 376.83440816402435\n",
            "Epoch  41 | Loss(SGD): 375.8784775733948\n",
            "Epoch  42 | Loss(SGD): 375.19913733005524\n",
            "Epoch  43 | Loss(SGD): 374.41907274723053\n",
            "Epoch  44 | Loss(SGD): 373.65989649295807\n",
            "Epoch  45 | Loss(SGD): 373.016942858696\n",
            "Epoch  46 | Loss(SGD): 372.2649451494217\n",
            "Epoch  47 | Loss(SGD): 371.5171631574631\n",
            "Epoch  48 | Loss(SGD): 370.8774279356003\n",
            "Epoch  49 | Loss(SGD): 370.24202048778534\n",
            "Epoch   0 | Loss(Adam): 380.2143429517746\n",
            "Epoch   1 | Loss(Adam): 329.4565359354019\n",
            "Epoch   2 | Loss(Adam): 311.0786181688309\n",
            "Epoch   3 | Loss(Adam): 299.0050655603409\n",
            "Epoch   4 | Loss(Adam): 289.9024249315262\n",
            "Epoch   5 | Loss(Adam): 281.2023973464966\n",
            "Epoch   6 | Loss(Adam): 273.5406095981598\n",
            "Epoch   7 | Loss(Adam): 268.92574977874756\n",
            "Epoch   8 | Loss(Adam): 261.93756997585297\n",
            "Epoch   9 | Loss(Adam): 256.75114154815674\n",
            "Epoch  10 | Loss(Adam): 250.90792286396027\n",
            "Epoch  11 | Loss(Adam): 245.36645126342773\n",
            "Epoch  12 | Loss(Adam): 239.6837099790573\n",
            "Epoch  13 | Loss(Adam): 234.87358164787292\n",
            "Epoch  14 | Loss(Adam): 230.01050877571106\n",
            "Epoch  15 | Loss(Adam): 224.53964471817017\n",
            "Epoch  16 | Loss(Adam): 219.22527611255646\n",
            "Epoch  17 | Loss(Adam): 215.31578040122986\n",
            "Epoch  18 | Loss(Adam): 211.95228093862534\n",
            "Epoch  19 | Loss(Adam): 206.4503117799759\n",
            "Epoch  20 | Loss(Adam): 201.881201505661\n",
            "Epoch  21 | Loss(Adam): 194.8417508006096\n",
            "Epoch  22 | Loss(Adam): 190.9632363319397\n",
            "Epoch  23 | Loss(Adam): 186.07963925600052\n",
            "Epoch  24 | Loss(Adam): 181.68985944986343\n",
            "Epoch  25 | Loss(Adam): 175.9651488661766\n",
            "Epoch  26 | Loss(Adam): 171.05206716060638\n",
            "Epoch  27 | Loss(Adam): 165.81948286294937\n",
            "Epoch  28 | Loss(Adam): 159.74560087919235\n",
            "Epoch  29 | Loss(Adam): 156.94640493392944\n",
            "Epoch  30 | Loss(Adam): 150.54231196641922\n",
            "Epoch  31 | Loss(Adam): 147.2855807542801\n",
            "Epoch  32 | Loss(Adam): 142.06898021697998\n",
            "Epoch  33 | Loss(Adam): 136.2563226222992\n",
            "Epoch  34 | Loss(Adam): 130.01880145072937\n",
            "Epoch  35 | Loss(Adam): 127.13565218448639\n",
            "Epoch  36 | Loss(Adam): 120.37773707509041\n",
            "Epoch  37 | Loss(Adam): 117.10575875639915\n",
            "Epoch  38 | Loss(Adam): 113.93854406476021\n",
            "Epoch  39 | Loss(Adam): 109.70529106259346\n",
            "Epoch  40 | Loss(Adam): 104.7406879067421\n",
            "Epoch  41 | Loss(Adam): 99.89857131242752\n",
            "Epoch  42 | Loss(Adam): 98.34935420751572\n",
            "Epoch  43 | Loss(Adam): 95.76853382587433\n",
            "Epoch  44 | Loss(Adam): 90.07709190249443\n",
            "Epoch  45 | Loss(Adam): 85.5829284787178\n",
            "Epoch  46 | Loss(Adam): 82.72647678852081\n",
            "Epoch  47 | Loss(Adam): 81.70627075433731\n",
            "Epoch  48 | Loss(Adam): 78.07180106639862\n",
            "Epoch  49 | Loss(Adam): 74.03693330287933\n"
          ]
        },
        {
          "output_type": "display_data",
          "data": {
            "text/plain": [
              "<Figure size 640x480 with 1 Axes>"
            ],
            "image/png": "[encoded data removed]"
          },
          "metadata": {}
        }
      ],
      "source": [
        "n_epochs = 50\n",
        "\n",
        "# 손실 함수 정의 - CrossEntropyLoss\n",
        "criterion = nn.CrossEntropyLoss()\n",
        "\n",
        "\n",
        "# 옵티마이저 설정\n",
        "optimizers = {\n",
        "    'SGD': sgd_optimizer,\n",
        "    'Adam': adam_optimizer\n",
        "}\n",
        "\n",
        "# 정확도 저장을 위한 리스트\n",
        "train_accuracies_sgd = []\n",
        "test_accuracies_sgd = []\n",
        "train_accuracies_adam = []\n",
        "test_accuracies_adam = []\n",
        "\n",
        "for optimizer_name, optimizer in optimizers.items():\n",
        "  train_accuracies = []\n",
        "  test_accuracies = []\n",
        "\n",
        "  for epoch in range(n_epochs):\n",
        "    model.train()\n",
        "    total_loss = 0.\n",
        "    for data in trainloader:\n",
        "      model.zero_grad()\n",
        "      inputs, labels = data\n",
        "      inputs, labels = inputs.to('cuda'), labels.to('cuda')\n",
        "\n",
        "      # 모델 예측\n",
        "      preds = model(inputs)\n",
        "\n",
        "      # 손실함수 계산 - CrossEntropyLoss\n",
        "      loss = criterion(preds, labels)\n",
        "      loss.backward()\n",
        "      optimizer.step()\n",
        "\n",
        "      total_loss += loss.item()\n",
        "\n",
        "    model.eval()\n",
        "    train_accuracy = accuracy(model, trainloader)\n",
        "    test_accuracy = accuracy(model, testloader)\n",
        "\n",
        "    train_accuracies.append(train_accuracy)\n",
        "    test_accuracies.append(test_accuracy)\n",
        "\n",
        "    print(f\"Epoch {epoch:3d} | Loss({optimizer_name}): {total_loss}\")\n",
        "\n",
        "  # 정확도 저장\n",
        "  if optimizer_name == 'SGD':\n",
        "      train_accuracies_sgd = train_accuracies\n",
        "      test_accuracies_sgd = test_accuracies\n",
        "  elif optimizer_name == 'Adam':\n",
        "      train_accuracies_adam = train_accuracies\n",
        "      test_accuracies_adam = test_accuracies\n",
        "\n",
        "\n",
        "# 정확도 플로팅\n",
        "plot_acc1(train_accuracies_sgd, test_accuracies_sgd, train_accuracies_adam, test_accuracies_adam)"
      ]
    },
    {
      "cell_type": "markdown",
      "metadata": {
        "id": "Zxsm_SWBC567"
      },
      "source": [
        "# **Leaky ReLU와 Sigmoid 성능 비교**\n",
        "- Activation 함수가 `nn.Sigmoid`인 class를 새로 정의합니다.\n",
        "- (Plot 2) Adam optimizer를 가지고 sigmoid와 leaky ReLU 모델들을 학습한 후, epoch에 따른 train 정확도를 비교합니다.\n"
      ]
    },
    {
      "cell_type": "code",
      "execution_count": null,
      "metadata": {
        "id": "aas8jmDzC0_E"
      },
      "outputs": [],
      "source": [
        "class SigmoidModel(nn.Module):\n",
        "    def __init__(self, input_dim, n_dim):\n",
        "        super().__init__()\n",
        "        self.layer1 = nn.Linear(input_dim, n_dim)\n",
        "        self.layer2 = nn.Linear(n_dim, n_dim)\n",
        "        self.layer3 = nn.Linear(n_dim, 10)\n",
        "        self.sigmoid = nn.Sigmoid()  # Sigmoid 활성화 함수\n",
        "\n",
        "    def forward(self, x):\n",
        "        x = torch.flatten(x, start_dim=1)\n",
        "        x = self.sigmoid(self.layer1(x))\n",
        "        x = self.sigmoid(self.layer2(x))\n",
        "        x = self.layer3(x)\n",
        "        return x\n",
        "\n",
        "\n",
        "class LeakyReLUModel(nn.Module):\n",
        "    def __init__(self, input_dim, n_dim):\n",
        "        super().__init__()\n",
        "        self.layer1 = nn.Linear(input_dim, n_dim)\n",
        "        self.layer2 = nn.Linear(n_dim, n_dim)\n",
        "        self.layer3 = nn.Linear(n_dim, 10)\n",
        "        self.leaky_relu = nn.LeakyReLU()  # LeakyReLU 활성화 함수\n",
        "\n",
        "    def forward(self, x):\n",
        "        x = torch.flatten(x, start_dim=1)\n",
        "        x = self.leaky_relu(self.layer1(x))\n",
        "        x = self.leaky_relu(self.layer2(x))\n",
        "        x = self.layer3(x)\n",
        "        return x\n",
        "\n",
        "# 모델 초기화\n",
        "model_sigmoid = SigmoidModel(3 * 32 * 32, 1024).to('cuda')\n",
        "model_leaky_relu = LeakyReLUModel(3 * 32 * 32, 1024).to('cuda')\n"
      ]
    },
    {
      "cell_type": "code",
      "execution_count": null,
      "metadata": {
        "id": "Zct0ssSKwjt1"
      },
      "outputs": [],
      "source": [
        "lr = 0.001\n",
        "\n",
        "# 옵티마이저 설정\n",
        "sigmoid_optimizer = Adam(model_sigmoid.parameters(), lr=lr)\n",
        "leaky_relu_optimizer = Adam(model_leaky_relu.parameters(), lr=lr)"
      ]
    },
    {
      "cell_type": "code",
      "execution_count": null,
      "metadata": {
        "id": "RjD1CLd9KA_r"
      },
      "outputs": [],
      "source": [
        "# 정확도 시각화 함수\n",
        "def plot_acc2(train_accs_sigmoid, train_accs_leaky_relu):\n",
        "    x = np.arange(len(train_accs_sigmoid))\n",
        "    plt.plot(x, train_accs_sigmoid, label='Sigmoid train')\n",
        "    plt.plot(x, train_accs_leaky_relu, label='Leaky ReLU train')\n",
        "\n",
        "    plt.legend()\n",
        "    plt.show()"
      ]
    },
    {
      "cell_type": "code",
      "execution_count": null,
      "metadata": {
        "colab": {
          "base_uri": "https://localhost:8080/",
          "height": 1000
        },
        "id": "ws3quCfiHZJX",
        "outputId": "965b2825-1f49-4d68-c0c8-5eab88b24107"
      },
      "outputs": [
        {
          "output_type": "stream",
          "name": "stdout",
          "text": [
            "Epoch   0 | Loss(sigmoid): 387.94350695610046 | Loss(leaky_relu): 367.35798847675323\n",
            "Epoch   1 | Loss(sigmoid): 338.9644412994385 | Loss(leaky_relu): 324.41931533813477\n",
            "Epoch   2 | Loss(sigmoid): 319.1995643377304 | Loss(leaky_relu): 306.0517065525055\n",
            "Epoch   3 | Loss(sigmoid): 307.50596511363983 | Loss(leaky_relu): 293.72877526283264\n",
            "Epoch   4 | Loss(sigmoid): 298.5773751735687 | Loss(leaky_relu): 284.37284433841705\n",
            "Epoch   5 | Loss(sigmoid): 289.4616471529007 | Loss(leaky_relu): 277.3253370523453\n",
            "Epoch   6 | Loss(sigmoid): 283.118701338768 | Loss(leaky_relu): 270.62159299850464\n",
            "Epoch   7 | Loss(sigmoid): 278.9578206539154 | Loss(leaky_relu): 263.5419125556946\n",
            "Epoch   8 | Loss(sigmoid): 272.4322873353958 | Loss(leaky_relu): 256.7349178791046\n",
            "Epoch   9 | Loss(sigmoid): 266.82926094532013 | Loss(leaky_relu): 251.48702454566956\n",
            "Epoch  10 | Loss(sigmoid): 261.86686301231384 | Loss(leaky_relu): 244.71192848682404\n",
            "Epoch  11 | Loss(sigmoid): 258.70863568782806 | Loss(leaky_relu): 239.15708929300308\n",
            "Epoch  12 | Loss(sigmoid): 254.83491432666779 | Loss(leaky_relu): 234.1309210062027\n",
            "Epoch  13 | Loss(sigmoid): 250.0697420835495 | Loss(leaky_relu): 228.84786224365234\n",
            "Epoch  14 | Loss(sigmoid): 246.72539734840393 | Loss(leaky_relu): 224.53717005252838\n",
            "Epoch  15 | Loss(sigmoid): 242.91303300857544 | Loss(leaky_relu): 219.8257810473442\n",
            "Epoch  16 | Loss(sigmoid): 240.2049561738968 | Loss(leaky_relu): 213.222481071949\n",
            "Epoch  17 | Loss(sigmoid): 236.42878657579422 | Loss(leaky_relu): 208.48680794239044\n",
            "Epoch  18 | Loss(sigmoid): 232.7004622220993 | Loss(leaky_relu): 202.46582752466202\n",
            "Epoch  19 | Loss(sigmoid): 228.7924666404724 | Loss(leaky_relu): 198.6627848148346\n",
            "Epoch  20 | Loss(sigmoid): 226.03891724348068 | Loss(leaky_relu): 192.00874370336533\n",
            "Epoch  21 | Loss(sigmoid): 223.54831129312515 | Loss(leaky_relu): 187.27917975187302\n",
            "Epoch  22 | Loss(sigmoid): 218.94641453027725 | Loss(leaky_relu): 181.30491262674332\n",
            "Epoch  23 | Loss(sigmoid): 214.3302121758461 | Loss(leaky_relu): 175.24459218978882\n",
            "Epoch  24 | Loss(sigmoid): 212.53116434812546 | Loss(leaky_relu): 169.65684765577316\n",
            "Epoch  25 | Loss(sigmoid): 207.60873782634735 | Loss(leaky_relu): 163.21851336956024\n",
            "Epoch  26 | Loss(sigmoid): 205.41125005483627 | Loss(leaky_relu): 159.70271623134613\n",
            "Epoch  27 | Loss(sigmoid): 199.70845878124237 | Loss(leaky_relu): 153.73917284607887\n",
            "Epoch  28 | Loss(sigmoid): 200.34597074985504 | Loss(leaky_relu): 148.4439730644226\n",
            "Epoch  29 | Loss(sigmoid): 197.25258427858353 | Loss(leaky_relu): 142.74626570940018\n",
            "Epoch  30 | Loss(sigmoid): 192.25967079401016 | Loss(leaky_relu): 139.17859971523285\n",
            "Epoch  31 | Loss(sigmoid): 189.8301854133606 | Loss(leaky_relu): 131.27807223796844\n",
            "Epoch  32 | Loss(sigmoid): 184.56838393211365 | Loss(leaky_relu): 127.45542651414871\n",
            "Epoch  33 | Loss(sigmoid): 182.6239515542984 | Loss(leaky_relu): 120.70817655324936\n",
            "Epoch  34 | Loss(sigmoid): 180.1761313676834 | Loss(leaky_relu): 117.83150100708008\n",
            "Epoch  35 | Loss(sigmoid): 177.13831233978271 | Loss(leaky_relu): 111.09397161006927\n",
            "Epoch  36 | Loss(sigmoid): 173.04256057739258 | Loss(leaky_relu): 107.88474157452583\n",
            "Epoch  37 | Loss(sigmoid): 171.48172277212143 | Loss(leaky_relu): 105.11319044232368\n",
            "Epoch  38 | Loss(sigmoid): 169.09540647268295 | Loss(leaky_relu): 99.12455013394356\n",
            "Epoch  39 | Loss(sigmoid): 164.73390346765518 | Loss(leaky_relu): 96.05566829442978\n",
            "Epoch  40 | Loss(sigmoid): 161.53309798240662 | Loss(leaky_relu): 92.56672778725624\n",
            "Epoch  41 | Loss(sigmoid): 162.836008310318 | Loss(leaky_relu): 86.83620110154152\n",
            "Epoch  42 | Loss(sigmoid): 156.4282385110855 | Loss(leaky_relu): 82.47130683064461\n",
            "Epoch  43 | Loss(sigmoid): 154.8281260728836 | Loss(leaky_relu): 81.48753216862679\n",
            "Epoch  44 | Loss(sigmoid): 151.10865473747253 | Loss(leaky_relu): 80.58340001106262\n",
            "Epoch  45 | Loss(sigmoid): 149.52331799268723 | Loss(leaky_relu): 77.51276507973671\n",
            "Epoch  46 | Loss(sigmoid): 146.56556338071823 | Loss(leaky_relu): 72.61805960536003\n",
            "Epoch  47 | Loss(sigmoid): 143.8976730108261 | Loss(leaky_relu): 69.56363694369793\n",
            "Epoch  48 | Loss(sigmoid): 139.98419976234436 | Loss(leaky_relu): 67.07161395251751\n",
            "Epoch  49 | Loss(sigmoid): 137.80293041467667 | Loss(leaky_relu): 65.10745115578175\n"
          ]
        },
        {
          "output_type": "display_data",
          "data": {
            "text/plain": [
              "<Figure size 640x480 with 1 Axes>"
            ],
            "image/png": "[encoded data removed]"
          },
          "metadata": {}
        }
      ],
      "source": [
        "n_epochs = 50\n",
        "\n",
        "# 손실 함수 정의 - CrossEntropyLoss\n",
        "criterion = nn.CrossEntropyLoss()\n",
        "\n",
        "# 정확도 저장을 위한 리스트\n",
        "train_accuracies_sigmoid = []\n",
        "train_accuracies_leaky_relu = []\n",
        "\n",
        "\n",
        "for epoch in range(n_epochs):\n",
        "  model_sigmoid.train()\n",
        "  total_loss_sigmoid = 0.\n",
        "  for data in trainloader:\n",
        "    model_sigmoid.zero_grad()\n",
        "    inputs, labels = data\n",
        "    inputs, labels = inputs.to('cuda'), labels.to('cuda')\n",
        "\n",
        "    # 모델 예측\n",
        "    preds = model_sigmoid(inputs)\n",
        "\n",
        "    # 손실함수 계산 - CrossEntropyLoss\n",
        "    loss = criterion(preds, labels)\n",
        "    loss.backward()\n",
        "    sigmoid_optimizer.step()\n",
        "\n",
        "    total_loss_sigmoid += loss.item()\n",
        "\n",
        "  model_sigmoid.eval()\n",
        "  train_accuracies_sigmoid.append(accuracy(model_sigmoid, trainloader))\n",
        "\n",
        "  model_leaky_relu.train()\n",
        "  total_loss_leaky_relu = 0.\n",
        "  for data in trainloader:\n",
        "    model_leaky_relu.zero_grad()\n",
        "    inputs, labels = data\n",
        "    inputs, labels = inputs.to('cuda'), labels.to('cuda')\n",
        "\n",
        "    # 모델 예측\n",
        "    preds = model_leaky_relu(inputs)\n",
        "\n",
        "    # 손실함수 계산 - CrossEntropyLoss\n",
        "    loss = criterion(preds, labels)\n",
        "    loss.backward()\n",
        "    leaky_relu_optimizer.step()\n",
        "\n",
        "    total_loss_leaky_relu += loss.item()\n",
        "\n",
        "  model_leaky_relu.eval()\n",
        "  train_accuracies_leaky_relu.append(accuracy(model_leaky_relu, trainloader))\n",
        "\n",
        "  print(f\"Epoch {epoch:3d} | Loss(sigmoid): {total_loss_sigmoid} | Loss(leaky_relu): {total_loss_leaky_relu}\")\n",
        "\n",
        "# 정확도 플로팅\n",
        "plot_acc2(train_accuracies_sigmoid, train_accuracies_leaky_relu)\n"
      ]
    },
    {
      "cell_type": "markdown",
      "metadata": {
        "id": "IrL4pdr5Efkf"
      },
      "source": [
        "## Dropout을 적용한 이후의 generalization error 확인\n",
        "- PyTorch [dropout](https://pytorch.org/docs/stable/generated/torch.nn.Dropout.html)을 leaky ReLU를 사용하는 MLP의 모든 layer에 적용한 class를 새로 정의합니다. Dropout 확률은 0.1로 설정합니다.\n",
        "- 학습 코드에서 다음 부분들을 추가해줍니다:\n",
        "    - `model.train()`을 `for data in trainloader:` 이전 줄에 둡니다.\n",
        "    - `trainloader`와 `testloader`에 대한 정확도를 계산하는 코드를 다음과 같이 변경합니다:\n",
        "        \n",
        "        ```python\n",
        "        with torch.no_grad():\n",
        "          model.eval()\n",
        "          <기존 정확도 계산 코드>\n",
        "        ```\n",
        "        \n",
        "- (Plot 3) Adam optimizer를 가지고 dropout을 적용한 모델을 학습한 후, epoch에 따른 train과 test 정확도를 비교합니다."
      ]
    },
    {
      "cell_type": "code",
      "execution_count": null,
      "metadata": {
        "id": "hCqcKaIoMcmc"
      },
      "outputs": [],
      "source": [
        "class DropoutModel(nn.Module):\n",
        "    def __init__(self, input_dim, n_dim, dropout_prob=0.1): #0.1 설정\n",
        "        super().__init__()\n",
        "        self.layer1 = nn.Linear(input_dim, n_dim)\n",
        "        self.layer2 = nn.Linear(n_dim, n_dim)\n",
        "        self.layer3 = nn.Linear(n_dim, 10)\n",
        "\n",
        "        self.dropout = nn.Dropout(p=dropout_prob)  # Dropout 층\n",
        "        self.act = nn.LeakyReLU()\n",
        "\n",
        "    def forward(self, x):\n",
        "        x = torch.flatten(x, start_dim=1)\n",
        "        x = self.dropout(self.act(self.layer1(x)))\n",
        "        x = self.dropout(self.act(self.layer2(x)))\n",
        "        x = self.layer3(x)\n",
        "        return x\n",
        "\n",
        "# 모델 초기화\n",
        "model_dropout = DropoutModel(3 * 32 * 32, 1024).to('cuda')"
      ]
    },
    {
      "cell_type": "code",
      "execution_count": null,
      "metadata": {
        "id": "VE2YLfk4M6Xx"
      },
      "outputs": [],
      "source": [
        "# model 정확도 시각화\n",
        "def plot_acc3(train, test):\n",
        "  x = np.arange(len(train))\n",
        "\n",
        "  plt.plot(x, train, label='Dropout train')\n",
        "  plt.plot(x, test, label='Dropout test')\n",
        "\n",
        "  plt.legend()\n",
        "  plt.show()"
      ]
    },
    {
      "cell_type": "code",
      "source": [],
      "metadata": {
        "id": "M68R1BV0yV-v"
      },
      "execution_count": null,
      "outputs": []
    },
    {
      "cell_type": "code",
      "execution_count": null,
      "metadata": {
        "colab": {
          "base_uri": "https://localhost:8080/",
          "height": 1000
        },
        "id": "opA2Yr9BNYxQ",
        "outputId": "a3c226a5-7acf-49e7-a1bc-97a29f046b35"
      },
      "outputs": [
        {
          "output_type": "stream",
          "name": "stdout",
          "text": [
            "Epoch   0 | Loss: 370.07443726062775\n",
            "Epoch   1 | Loss: 330.4480048418045\n",
            "Epoch   2 | Loss: 314.7674003839493\n",
            "Epoch   3 | Loss: 303.99717462062836\n",
            "Epoch   4 | Loss: 295.91017162799835\n",
            "Epoch   5 | Loss: 289.5775099992752\n",
            "Epoch   6 | Loss: 284.45416021347046\n",
            "Epoch   7 | Loss: 279.72333538532257\n",
            "Epoch   8 | Loss: 275.5478525161743\n",
            "Epoch   9 | Loss: 269.40196418762207\n",
            "Epoch  10 | Loss: 266.47816014289856\n",
            "Epoch  11 | Loss: 262.48130691051483\n",
            "Epoch  12 | Loss: 258.05356550216675\n",
            "Epoch  13 | Loss: 254.2902992963791\n",
            "Epoch  14 | Loss: 251.79784178733826\n",
            "Epoch  15 | Loss: 248.25368130207062\n",
            "Epoch  16 | Loss: 243.6539489030838\n",
            "Epoch  17 | Loss: 240.81188595294952\n",
            "Epoch  18 | Loss: 237.30291783809662\n",
            "Epoch  19 | Loss: 235.0202407836914\n",
            "Epoch  20 | Loss: 231.7313482761383\n",
            "Epoch  21 | Loss: 229.18569445610046\n",
            "Epoch  22 | Loss: 225.5299723148346\n",
            "Epoch  23 | Loss: 222.51559138298035\n",
            "Epoch  24 | Loss: 222.37511867284775\n",
            "Epoch  25 | Loss: 219.45332717895508\n",
            "Epoch  26 | Loss: 216.69864457845688\n",
            "Epoch  27 | Loss: 211.9481436610222\n",
            "Epoch  28 | Loss: 208.57333147525787\n",
            "Epoch  29 | Loss: 206.73803651332855\n",
            "Epoch  30 | Loss: 204.22775542736053\n",
            "Epoch  31 | Loss: 201.7387249469757\n",
            "Epoch  32 | Loss: 199.3279664516449\n",
            "Epoch  33 | Loss: 196.50600010156631\n",
            "Epoch  34 | Loss: 194.62429350614548\n",
            "Epoch  35 | Loss: 189.7049378156662\n",
            "Epoch  36 | Loss: 187.69160795211792\n",
            "Epoch  37 | Loss: 185.47497874498367\n",
            "Epoch  38 | Loss: 183.80810821056366\n",
            "Epoch  39 | Loss: 181.33083242177963\n",
            "Epoch  40 | Loss: 179.2217231988907\n",
            "Epoch  41 | Loss: 176.83651876449585\n",
            "Epoch  42 | Loss: 174.39851129055023\n",
            "Epoch  43 | Loss: 172.7071840763092\n",
            "Epoch  44 | Loss: 170.34521389007568\n",
            "Epoch  45 | Loss: 170.16978257894516\n",
            "Epoch  46 | Loss: 167.15293270349503\n",
            "Epoch  47 | Loss: 164.88927298784256\n",
            "Epoch  48 | Loss: 163.33772575855255\n",
            "Epoch  49 | Loss: 161.21685695648193\n"
          ]
        },
        {
          "output_type": "display_data",
          "data": {
            "text/plain": [
              "<Figure size 640x480 with 1 Axes>"
            ],
            "image/png": "[encoded data removed]"
          },
          "metadata": {}
        }
      ],
      "source": [
        "n_epochs = 50\n",
        "\n",
        "# 손실 함수 정의 - CrossEntropyLoss\n",
        "criterion = nn.CrossEntropyLoss()\n",
        "\n",
        "# 옵티마이저 설정\n",
        "dropout_optimizer = Adam(model_dropout.parameters(), lr=0.001)\n",
        "\n",
        "dropout_train_accuracies = []\n",
        "dropout_test_accuracies = []\n",
        "\n",
        "for epoch in range(n_epochs):\n",
        "  total_loss = 0.\n",
        "\n",
        "  model_dropout.train()\n",
        "  for data in trainloader:\n",
        "    model_dropout.zero_grad()\n",
        "\n",
        "    inputs, labels = data\n",
        "    inputs, labels = inputs.to('cuda'), labels.to('cuda')\n",
        "\n",
        "    # 모델 예측\n",
        "    preds = model_dropout(inputs)\n",
        "\n",
        "    # 손실함수 계산 - CrossEntropyLoss\n",
        "    loss = criterion(preds, labels)\n",
        "    loss.backward()\n",
        "    dropout_optimizer.step()\n",
        "\n",
        "    total_loss += loss.item()\n",
        "\n",
        "  print(f\"Epoch {epoch:3d} | Loss: {total_loss}\")\n",
        "\n",
        "\n",
        "  with torch.no_grad():\n",
        "    model_dropout.eval()\n",
        "    dropout_train_accuracies.append(accuracy(model_dropout, trainloader))\n",
        "    dropout_test_accuracies.append(accuracy(model_dropout, testloader))\n",
        "\n",
        "# 정확도 플로팅\n",
        "plot_acc3(dropout_train_accuracies, dropout_test_accuracies)"
      ]
    }
  ],
  "metadata": {
    "accelerator": "GPU",
    "colab": {
      "gpuType": "T4",
      "provenance": [],
      "include_colab_link": true
    },
    "kernelspec": {
      "display_name": "Python 3",
      "name": "python3"
    },
    "language_info": {
      "name": "python"
    }
  },
  "nbformat": 4,
  "nbformat_minor": 0
}