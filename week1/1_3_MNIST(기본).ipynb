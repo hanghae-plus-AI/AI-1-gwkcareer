{
  "nbformat": 4,
  "nbformat_minor": 0,
  "metadata": {
    "colab": {
      "provenance": [],
      "gpuType": "T4",
      "include_colab_link": true
    },
    "kernelspec": {
      "name": "python3",
      "display_name": "Python 3"
    },
    "language_info": {
      "name": "python"
    },
    "accelerator": "GPU"
  },
  "cells": [
    {
      "cell_type": "markdown",
      "metadata": {
        "id": "view-in-github",
        "colab_type": "text"
      },
      "source": [
        "<a href=\"https://colab.research.google.com/github/hanghae-plus-AI/AI-1-gwkcareer/blob/main/week1/1_3_MNIST(%EA%B8%B0%EB%B3%B8).ipynb\" target=\"_parent\"><img src=\"https://colab.research.google.com/assets/colab-badge.svg\" alt=\"Open In Colab\"/></a>"
      ]
    },
    {
      "cell_type": "markdown",
      "source": [
        "# MNIST 기본과제\n",
        "\n",
        "28x28 흑백 손글씨 이미지를 보고 0~9 사이의 숫자 중 어떤 숫자를 쓴 것인지 예측하는 문제\n",
        "\n",
        "library import"
      ],
      "metadata": {
        "id": "OPJenlrhihrh"
      }
    },
    {
      "cell_type": "code",
      "execution_count": null,
      "metadata": {
        "id": "6lXVfXoDtoQh"
      },
      "outputs": [],
      "source": [
        "import torch\n",
        "import torchvision\n",
        "import torchvision.transforms as transforms\n",
        "import numpy as np\n",
        "from matplotlib import pyplot as plt"
      ]
    },
    {
      "cell_type": "markdown",
      "source": [
        "dataset은 `torchvision`에서 다운로드\n",
        "- train 데이터\n",
        "- test 데이터\n",
        "\n",
        "\n",
        "\n",
        "> PyTorch model을 사용할 것이기 때문에 손글씨 사진들을 모두 tensor로 변환\n",
        "이러한 부가적인 변환들은 `torchvision.transforms`에서 제공하고 있으며,\n",
        " `torchvision.datasets.MNIST`에서 `transform` 인자로 받을 수 있습니다.\n",
        "우리는 단순히 사진을 tensor로 바꾸고 싶기 때문에 `transforms.ToTensor()` transformation을 넘겨줍니다.\n"
      ],
      "metadata": {
        "id": "pF-1zQvmiult"
      }
    },
    {
      "cell_type": "code",
      "source": [
        "transform = transforms.ToTensor()\n",
        "\n",
        "trainset = torchvision.datasets.MNIST(\n",
        "    root='./data',\n",
        "    train=True,\n",
        "    download=True,\n",
        "    transform=transform\n",
        ")\n",
        "testset = torchvision.datasets.MNIST(\n",
        "    root='./data',\n",
        "    train=False,\n",
        "    download=True,\n",
        "    transform=transform\n",
        ")"
      ],
      "metadata": {
        "id": "KAYlqPaRt6ti"
      },
      "execution_count": null,
      "outputs": []
    },
    {
      "cell_type": "markdown",
      "source": [
        "\n",
        "전체 data의 개수와 첫 번째 data를 출력하여 확인\n",
        "\n",
        "\n"
      ],
      "metadata": {
        "id": "p-GqH7_ZjVMs"
      }
    },
    {
      "cell_type": "code",
      "source": [
        "print(len(trainset))\n",
        "print(trainset[0][0].shape, trainset[0][1])\n",
        "plt.imshow(trainset[0][0][0], cmap='gray')"
      ],
      "metadata": {
        "colab": {
          "base_uri": "https://localhost:8080/",
          "height": 482
        },
        "id": "Zsp3sHmojyhT",
        "outputId": "b061da77-1f1d-4edf-8067-b2cfa5083983"
      },
      "execution_count": null,
      "outputs": [
        {
          "output_type": "stream",
          "name": "stdout",
          "text": [
            "60000\n",
            "torch.Size([1, 28, 28]) 5\n"
          ]
        },
        {
          "output_type": "execute_result",
          "data": {
            "text/plain": [
              "<matplotlib.image.AxesImage at 0x7c501c9ed9c0>"
            ]
          },
          "metadata": {},
          "execution_count": 15
        },
        {
          "output_type": "display_data",
          "data": {
            "text/plain": [
              "<Figure size 640x480 with 1 Axes>"
            ],
            "image/png": "[encoded data removed]"
          },
          "metadata": {}
        }
      ]
    },
    {
      "cell_type": "markdown",
      "source": [
        "SGD를 위해 dataset을 여러 개의 batch로 나누는 과정을 PyTorch로 구현\n",
        "\n",
        "testdata 는 shuffle = False\n",
        "\n",
        "> 학습 과정에서는 shuffle=True를 사용하여 데이터를 무작위로 섞어 데이터의 편향을 줄이고, 모델이 다양한 패턴을 학습하도록 돕습니다.반면, 테스트 과정에서는 데이터 순서에 영향을 받지 않고 평가하는 것이 중요하므로, 데이터를 섞지 않고 고정된 순서로 평가합니다.\n"
      ],
      "metadata": {
        "id": "udm8wDBsi301"
      }
    },
    {
      "cell_type": "code",
      "source": [
        "batch_size = 256\n",
        "\n",
        "trainloader = torch.utils.data.DataLoader(\n",
        "    trainset,\n",
        "    batch_size=batch_size,\n",
        "    shuffle=True\n",
        ")\n",
        "testloader = torch.utils.data.DataLoader(\n",
        "    testset,\n",
        "    batch_size=batch_size,\n",
        "    shuffle=False\n",
        ")"
      ],
      "metadata": {
        "id": "UxKu3kA2i5WH"
      },
      "execution_count": null,
      "outputs": []
    },
    {
      "cell_type": "markdown",
      "source": [
        "`images`는 첫 번째 batch의 image들이고 `labels`는 첫 번째 batch의 label들입니다.\n",
        "\n",
        "\n",
        "\n",
        "위에서 batch size를 256로 설정했기 때문에 총 256개의 image와 label들이 있어야 합니다.\n",
        "실제 shape 출력 결과를 보면 그렇다는 것을 알 수 있습니다."
      ],
      "metadata": {
        "id": "h0ZY5mDimRUK"
      }
    },
    {
      "cell_type": "code",
      "source": [
        "dataiter = iter(trainloader)\n",
        "images, labels = next(dataiter)\n",
        "print(images.shape, labels.shape)"
      ],
      "metadata": {
        "colab": {
          "base_uri": "https://localhost:8080/"
        },
        "id": "_Hd7XxyAvVNz",
        "outputId": "6e24b3d1-caca-4cdd-d9fa-77988a2c4261"
      },
      "execution_count": null,
      "outputs": [
        {
          "output_type": "stream",
          "name": "stdout",
          "text": [
            "torch.Size([256, 1, 28, 28]) torch.Size([256])\n"
          ]
        }
      ]
    },
    {
      "cell_type": "markdown",
      "source": [
        "3-layer MLP를 구현\n",
        "\n",
        "\n",
        "> 이전의 2-layer MLP와 유사한 형태임을 알 수 있습니다.\n",
        "여기서 특이사항은 `forward`의 첫 번째 줄에 `torch.flatten`을 사용한다는 것입니다.\n",
        "`Linear`는 이전에도 봤다시피 (n, d) 형태의 shape을 입력받습니다.\n",
        "이미지는 (n, 1, 28, 28)이기 때문에 (n, 1 * 28 * 28)로 shape을 변환해야 선형 함수에 입력으로 주어줄 수 있게 됩니다.\n",
        "이 역할을 수행하는 것이 바로 `torch.flatten`입니다.\n",
        "우리는 첫 번째 shape인 n을 보존할 것이기 때문에 flatten할 차원은 `start_dim=1`로 넘겨주게 됩니다.\n",
        "\n"
      ],
      "metadata": {
        "id": "w4tNus586Ywn"
      }
    },
    {
      "cell_type": "code",
      "source": [
        "from torch import nn\n",
        "\n",
        "\n",
        "class Model(nn.Module):\n",
        "  def __init__(self, input_dim, n_dim):\n",
        "    super().__init__()\n",
        "\n",
        "    self.layer1 = nn.Linear(input_dim, n_dim)\n",
        "    self.layer2 = nn.Linear(n_dim, n_dim)\n",
        "    self.layer3 = nn.Linear(n_dim, 10) # 출력 레이어 변경\n",
        "\n",
        "    self.act = nn.ReLU()\n",
        "\n",
        "  def forward(self, x):\n",
        "    x = torch.flatten(x, start_dim=1)\n",
        "    x = self.act(self.layer1(x))\n",
        "    x = self.act(self.layer2(x))\n",
        "    # x = self.act(self.layer3(x))\n",
        "    x = self.layer3(x)                # Logits without activation\n",
        "\n",
        "    return x\n",
        "\n",
        "\n",
        "model = Model(28 * 28 * 1, 1024)"
      ],
      "metadata": {
        "id": "OLOA-ZGTuVVG"
      },
      "execution_count": null,
      "outputs": []
    },
    {
      "cell_type": "markdown",
      "source": [
        "\n",
        " gradient descent를 수행해줄 optimizer를 구현하는 모습\n",
        "\n",
        "\n",
        "> `model.to('cuda')` 코드를 통해 우리가 구현한 model을 GPU로 옮긴 것입니다.\n",
        "MNIST 부터는 모델과 data가 커지면서 훨씬 많은 행렬 연산이 이루어지기 때문에 GPU를 활용하는 것이 빠릅니다.\n",
        "\n",
        "\n"
      ],
      "metadata": {
        "id": "tag1rNcwmnAr"
      }
    },
    {
      "cell_type": "code",
      "source": [
        "from torch.optim import SGD\n",
        "\n",
        "lr = 0.001\n",
        "model = model.to('cuda')\n",
        "\n",
        "optimizer = SGD(model.parameters(), lr=lr)"
      ],
      "metadata": {
        "id": "ypS0TcOlvBhZ"
      },
      "execution_count": null,
      "outputs": []
    },
    {
      "cell_type": "markdown",
      "source": [
        "정확도 측정 함수\n"
      ],
      "metadata": {
        "id": "5PooeOKMnRfZ"
      }
    },
    {
      "cell_type": "code",
      "source": [
        "# model 정확도 측정 함수\n",
        "def accuracy(model, dataloader):\n",
        "  cnt = 0\n",
        "  acc = 0\n",
        "\n",
        "  for data in dataloader:\n",
        "    inputs, labels = data\n",
        "    inputs, labels = inputs.to('cuda'), labels.to('cuda')\n",
        "\n",
        "    preds = model(inputs)\n",
        "    preds = torch.argmax(preds, dim=-1)\n",
        "\n",
        "    cnt += labels.shape[0]\n",
        "    acc += (labels == preds).sum().item()\n",
        "\n",
        "  return acc / cnt"
      ],
      "metadata": {
        "id": "RGnOqII5uEia"
      },
      "execution_count": null,
      "outputs": []
    },
    {
      "cell_type": "markdown",
      "source": [
        "정확도 시각화"
      ],
      "metadata": {
        "id": "rRoOEYAa7AC6"
      }
    },
    {
      "cell_type": "code",
      "source": [
        "# model 정확도 시각화\n",
        "def plot_acc(train_accs, test_accs, label1='train', label2='test'):\n",
        "  x = np.arange(len(train_accs))\n",
        "\n",
        "  plt.plot(x, train_accs, label=label1)\n",
        "  plt.plot(x, test_accs, label=label2)\n",
        "  plt.legend()\n",
        "  plt.show()"
      ],
      "metadata": {
        "id": "TuFM778QseZ_"
      },
      "execution_count": null,
      "outputs": []
    },
    {
      "cell_type": "markdown",
      "source": [
        "model을 MNIST에 학습"
      ],
      "metadata": {
        "id": "s6tIbI4L7CPE"
      }
    },
    {
      "cell_type": "code",
      "source": [
        "n_epochs = 100\n",
        "\n",
        "# 손실 함수 정의 - CrossEntropyLoss\n",
        "criterion = nn.CrossEntropyLoss()\n",
        "\n",
        "# 정확도 저장을 위한 리스트\n",
        "train_accuracies = []\n",
        "test_accuracies = []\n",
        "\n",
        "for epoch in range(n_epochs):\n",
        "  total_loss = 0.\n",
        "  for data in trainloader:\n",
        "    model.zero_grad()\n",
        "    inputs, labels = data\n",
        "    inputs, labels = inputs.to('cuda'), labels.to('cuda')\n",
        "\n",
        "    # 모델 예측\n",
        "    preds = model(inputs)\n",
        "\n",
        "    # 손실함수 계산 - MSE\n",
        "    #loss = (preds[:, 0] - labels).pow(2).mean()\n",
        "    #loss.backward()\n",
        "    #optimizer.step()\n",
        "\n",
        "    # 손실함수 계산 - CrossEntropyLoss\n",
        "    # CrossEntropyLoss는 labels가 [batch_size] 형태여야 합니다.\n",
        "    loss = criterion(preds, labels)  # preds: [batch_size, num_classes], labels: [batch_size]\n",
        "    loss.backward()\n",
        "    optimizer.step()\n",
        "\n",
        "    total_loss += loss.item()\n",
        "\n",
        "\n",
        "  train_accuracy = accuracy(model, trainloader)\n",
        "  test_accuracy = accuracy(model, testloader)\n",
        "\n",
        "  train_accuracies.append(train_accuracy)\n",
        "  test_accuracies.append(test_accuracy)\n",
        "\n",
        "  print(f\"Epoch {epoch:3d} | Loss: {total_loss}\")\n",
        "\n",
        "# 정확도 플로팅\n",
        "plot_acc(train_accuracies, test_accuracies)"
      ],
      "metadata": {
        "colab": {
          "base_uri": "https://localhost:8080/",
          "height": 1000
        },
        "id": "TryX1hewvNiB",
        "outputId": "7e17195b-168e-4f5a-b77c-45e00ed7a6e9"
      },
      "execution_count": null,
      "outputs": [
        {
          "output_type": "stream",
          "name": "stdout",
          "text": [
            "Epoch   0 | Loss: 539.3524963855743\n",
            "Epoch   1 | Loss: 535.6638433933258\n",
            "Epoch   2 | Loss: 531.8435266017914\n",
            "Epoch   3 | Loss: 527.7824697494507\n",
            "Epoch   4 | Loss: 523.3551795482635\n",
            "Epoch   5 | Loss: 518.4672064781189\n",
            "Epoch   6 | Loss: 512.9856615066528\n",
            "Epoch   7 | Loss: 506.732209444046\n",
            "Epoch   8 | Loss: 499.6143145561218\n",
            "Epoch   9 | Loss: 491.3985195159912\n",
            "Epoch  10 | Loss: 481.9395365715027\n",
            "Epoch  11 | Loss: 471.0305737257004\n",
            "Epoch  12 | Loss: 458.58872747421265\n",
            "Epoch  13 | Loss: 444.448340177536\n",
            "Epoch  14 | Loss: 428.5153533220291\n",
            "Epoch  15 | Loss: 411.02055513858795\n",
            "Epoch  16 | Loss: 392.10396921634674\n",
            "Epoch  17 | Loss: 372.19946897029877\n",
            "Epoch  18 | Loss: 351.72375202178955\n",
            "Epoch  19 | Loss: 331.3831367492676\n",
            "Epoch  20 | Loss: 311.6580001115799\n",
            "Epoch  21 | Loss: 292.99091851711273\n",
            "Epoch  22 | Loss: 275.67385160923004\n",
            "Epoch  23 | Loss: 259.8654496073723\n",
            "Epoch  24 | Loss: 245.58655393123627\n",
            "Epoch  25 | Loss: 232.69190388917923\n",
            "Epoch  26 | Loss: 221.24805092811584\n",
            "Epoch  27 | Loss: 210.90433806180954\n",
            "Epoch  28 | Loss: 201.60696524381638\n",
            "Epoch  29 | Loss: 193.37953639030457\n",
            "Epoch  30 | Loss: 185.93967294692993\n",
            "Epoch  31 | Loss: 179.31595474481583\n",
            "Epoch  32 | Loss: 173.17779171466827\n",
            "Epoch  33 | Loss: 167.62867885828018\n",
            "Epoch  34 | Loss: 162.579127907753\n",
            "Epoch  35 | Loss: 158.02657425403595\n",
            "Epoch  36 | Loss: 153.72033327817917\n",
            "Epoch  37 | Loss: 149.81855815649033\n",
            "Epoch  38 | Loss: 146.27188485860825\n",
            "Epoch  39 | Loss: 142.75941729545593\n",
            "Epoch  40 | Loss: 139.67792975902557\n",
            "Epoch  41 | Loss: 136.87946593761444\n",
            "Epoch  42 | Loss: 134.05394673347473\n",
            "Epoch  43 | Loss: 131.55037686228752\n",
            "Epoch  44 | Loss: 129.24275848269463\n",
            "Epoch  45 | Loss: 126.99218866229057\n",
            "Epoch  46 | Loss: 124.81585457921028\n",
            "Epoch  47 | Loss: 122.94493845105171\n",
            "Epoch  48 | Loss: 120.96365177631378\n",
            "Epoch  49 | Loss: 119.22679105401039\n",
            "Epoch  50 | Loss: 117.55278718471527\n",
            "Epoch  51 | Loss: 115.84622257947922\n",
            "Epoch  52 | Loss: 114.49776494503021\n",
            "Epoch  53 | Loss: 112.95081278681755\n",
            "Epoch  54 | Loss: 111.56489679217339\n",
            "Epoch  55 | Loss: 110.28779655694962\n",
            "Epoch  56 | Loss: 109.05935242772102\n",
            "Epoch  57 | Loss: 107.96979862451553\n",
            "Epoch  58 | Loss: 106.76702329516411\n",
            "Epoch  59 | Loss: 105.5713415145874\n",
            "Epoch  60 | Loss: 104.5708400607109\n",
            "Epoch  61 | Loss: 103.52899864315987\n",
            "Epoch  62 | Loss: 102.70509746670723\n",
            "Epoch  63 | Loss: 101.77408823370934\n",
            "Epoch  64 | Loss: 100.77229243516922\n",
            "Epoch  65 | Loss: 99.97910925745964\n",
            "Epoch  66 | Loss: 99.05923846364021\n",
            "Epoch  67 | Loss: 98.39852261543274\n",
            "Epoch  68 | Loss: 97.62515699863434\n",
            "Epoch  69 | Loss: 96.8119532763958\n",
            "Epoch  70 | Loss: 96.17223221063614\n",
            "Epoch  71 | Loss: 95.442597001791\n",
            "Epoch  72 | Loss: 94.75815618038177\n",
            "Epoch  73 | Loss: 94.13403296470642\n",
            "Epoch  74 | Loss: 93.49849182367325\n",
            "Epoch  75 | Loss: 92.89510452747345\n",
            "Epoch  76 | Loss: 92.31115525960922\n",
            "Epoch  77 | Loss: 91.7294739484787\n",
            "Epoch  78 | Loss: 91.26983323693275\n",
            "Epoch  79 | Loss: 90.72097566723824\n",
            "Epoch  80 | Loss: 90.12693181633949\n",
            "Epoch  81 | Loss: 89.62594798207283\n",
            "Epoch  82 | Loss: 89.1409422159195\n",
            "Epoch  83 | Loss: 88.70340904593468\n",
            "Epoch  84 | Loss: 88.1582683622837\n",
            "Epoch  85 | Loss: 87.85265752673149\n",
            "Epoch  86 | Loss: 87.3405494093895\n",
            "Epoch  87 | Loss: 86.83473262190819\n",
            "Epoch  88 | Loss: 86.46106772124767\n",
            "Epoch  89 | Loss: 86.11132451891899\n",
            "Epoch  90 | Loss: 85.73389393091202\n",
            "Epoch  91 | Loss: 85.1802687048912\n",
            "Epoch  92 | Loss: 84.93540459871292\n",
            "Epoch  93 | Loss: 84.47901923954487\n",
            "Epoch  94 | Loss: 84.26189106702805\n",
            "Epoch  95 | Loss: 83.78545047342777\n",
            "Epoch  96 | Loss: 83.40776474773884\n",
            "Epoch  97 | Loss: 83.13097363710403\n",
            "Epoch  98 | Loss: 82.7558916658163\n",
            "Epoch  99 | Loss: 82.42835776507854\n"
          ]
        },
        {
          "output_type": "display_data",
          "data": {
            "text/plain": [
              "<Figure size 640x480 with 1 Axes>"
            ],
            "image/png": "[encoded data removed]"
          },
          "metadata": {}
        }
      ]
    }
  ]
}